{
 "cells": [
  {
   "cell_type": "markdown",
   "metadata": {},
   "source": [
    "# **Análisis Exploratorio de Datos (EDA)**\n",
    "\n",
    "**Objetivo:** Conocer las características de los datos, detectar patrones iniciales y posibles problemas (valores faltantes, outliers, etc.).\n",
    "\n",
    "### **Pasos sugeridos:**\n",
    "\n",
    "**1-Cargar y visualizar los datos:**\n",
    "    -Usa pandas para cargar los archivos CSV y verificar su estructura.\n",
    "\n",
    "**2-Visualizar distribuciones iniciales:**\n",
    "    Histograma o KDE (Kernel Density Estimation) para los precios (matplotlib, seaborn).\n",
    "    Gráficos de líneas para ver tendencias de las variables principales (precios y volúmenes).\n",
    "\n",
    "**3-Identificar relaciones:**\n",
    "    Mapas de calor para observar correlaciones entre variables.\n",
    "    \n",
    "**4-Detectar outliers:**\n",
    "    Boxplots para identificar precios o volúmenes atípicos.\n",
    "    \n",
    "**5-Analizar tendencias temporales:**\n",
    "    Gráficos de series temporales para cada criptomoneda."
   ]
  },
  {
   "cell_type": "markdown",
   "metadata": {},
   "source": [
    "---\n",
    "### **Paso 1: Cargar y explorar los datos**\n",
    "---\n",
    "**Carga del dataset e importacion de bibliotecas:** \n",
    "Este bloque carga los datos desde un archivo CSV.\n",
    "Además, convierte la columna 'date' al tipo datetime para facilitar el análisis temporal."
   ]
  },
  {
   "cell_type": "code",
   "execution_count": 27,
   "metadata": {},
   "outputs": [],
   "source": [
    "import pandas as pd\n",
    "import numpy as np\n",
    "import matplotlib.pyplot as plt\n",
    "import seaborn as sns\n",
    "from scipy.stats import shapiro, normaltest, anderson\n",
    "\n",
    "file_path = '../db/BATUSD_d.csv' \n",
    "crypto_data = pd.read_csv(file_path)\n",
    "crypto_data['date'] = pd.to_datetime(crypto_data['date'])\n",
    "\n",
    "# Configurar estilo de gráficos\n",
    "sns.set(style=\"whitegrid\")"
   ]
  },
  {
   "cell_type": "markdown",
   "metadata": {},
   "source": [
    "\n",
    "# Análisis 1: Tendencias de precios y volumen\n",
    "Analizamos la evolución del precio de cierre y el volumen de transacciones a lo largo del tiempo mediante gráficos de línea."
   ]
  },
  {
   "cell_type": "code",
   "execution_count": null,
   "metadata": {},
   "outputs": [],
   "source": [
    "plt.figure(figsize=(14, 7))\n",
    "plt.plot(crypto_data['date'], crypto_data['close'], label='Precio de cierre')\n",
    "plt.title('Evolución del precio de cierre')\n",
    "plt.xlabel('Fecha')\n",
    "plt.ylabel('Precio de cierre')\n",
    "plt.legend()\n",
    "plt.show()\n",
    "\n",
    "plt.figure(figsize=(14, 7))\n",
    "plt.plot(crypto_data['date'], crypto_data['volume usd'], label='Volumen (USD)', color='orange')\n",
    "plt.title('Evolución del volumen de transacciones (USD)')\n",
    "plt.xlabel('Fecha')\n",
    "plt.ylabel('Volumen (USD)')\n",
    "plt.legend()\n",
    "plt.show()"
   ]
  },
  {
   "cell_type": "markdown",
   "metadata": {},
   "source": [
    "# Análisis 2: Promedios móviles\n",
    "Calculamos medias móviles de 7 y 30 días para suavizar las fluctuaciones de los precios y detectar tendencias."
   ]
  },
  {
   "cell_type": "code",
   "execution_count": null,
   "metadata": {},
   "outputs": [],
   "source": [
    "crypto_data['ma_7'] = crypto_data['close'].rolling(window=7).mean()\n",
    "crypto_data['ma_30'] = crypto_data['close'].rolling(window=30).mean()\n",
    "\n",
    "plt.figure(figsize=(14, 7))\n",
    "plt.plot(crypto_data['date'], crypto_data['close'], label='Precio de cierre', alpha=0.5)\n",
    "plt.plot(crypto_data['date'], crypto_data['ma_7'], label='Media móvil 7 días', color='green')\n",
    "plt.plot(crypto_data['date'], crypto_data['ma_30'], label='Media móvil 30 días', color='red')\n",
    "plt.title('Precio de cierre con medias móviles')\n",
    "plt.xlabel('Fecha')\n",
    "plt.ylabel('Precio de cierre')\n",
    "plt.legend()\n",
    "plt.show()"
   ]
  },
  {
   "cell_type": "markdown",
   "metadata": {},
   "source": [
    "# Análisis 3: Distribución de la volatilidad\n",
    "Analizamos la distribución de la volatilidad utilizando\n",
    "un histograma con una curva KDE (Kernel Density Estimate)."
   ]
  },
  {
   "cell_type": "code",
   "execution_count": null,
   "metadata": {},
   "outputs": [],
   "source": [
    "plt.figure(figsize=(10, 5))\n",
    "sns.histplot(crypto_data['volatility'], kde=True, bins=30, color='purple')\n",
    "plt.title('Distribución de la volatilidad')\n",
    "plt.xlabel('Volatilidad')\n",
    "plt.ylabel('Frecuencia')\n",
    "plt.show()\n"
   ]
  },
  {
   "cell_type": "markdown",
   "metadata": {},
   "source": [
    "# Pruebas de distribución para la volatilidad\n",
    " Realizamos pruebas estadísticas para verificar si los datos\n",
    " de volatilidad siguen una distribución normal.\n",
    " - Shapiro-Wilk\n",
    " - D'Agostino\n",
    " - Anderson-Darling"
   ]
  },
  {
   "cell_type": "code",
   "execution_count": null,
   "metadata": {},
   "outputs": [],
   "source": [
    "stat, p = shapiro(crypto_data['volatility'])\n",
    "print(f\"Prueba de Shapiro-Wilk: Estadístico={stat}, p-valor={p}\")\n",
    "\n",
    "stat, p = normaltest(crypto_data['volatility'])\n",
    "print(f\"Prueba de D'Agostino: Estadístico={stat}, p-valor={p}\")\n",
    "\n",
    "result = anderson(crypto_data['volatility'])\n",
    "print('Prueba de Anderson-Darling:')\n",
    "for i in range(len(result.critical_values)):\n",
    "    sig_level, crit_value = result.significance_level[i], result.critical_values[i]\n",
    "    print(f\"Nivel de significancia: {sig_level}%, Valor crítico: {crit_value}, Estadístico: {result.statistic}\")"
   ]
  },
  {
   "cell_type": "markdown",
   "metadata": {},
   "source": [
    "# Análisis 4: Rangos de precios\n",
    "Calculamos el rango diario como la diferencia entre el precio máximo (high) y el precio mínimo (low)."
   ]
  },
  {
   "cell_type": "code",
   "execution_count": null,
   "metadata": {},
   "outputs": [],
   "source": [
    "crypto_data['daily_range'] = crypto_data['high'] - crypto_data['low']\n",
    "\n",
    "plt.figure(figsize=(14, 7))\n",
    "plt.plot(crypto_data['date'], crypto_data['daily_range'], label='Rango diario')\n",
    "plt.title('Rango diario de precios (High - Low)')\n",
    "plt.xlabel('Fecha')\n",
    "plt.ylabel('Rango diario')\n",
    "plt.legend()\n",
    "plt.show()"
   ]
  },
  {
   "cell_type": "markdown",
   "metadata": {},
   "source": [
    "# Análisis 5: Cambios porcentuales diarios\n",
    "Calculamos los cambios porcentuales diarios en el precio de cierre y analizamos su distribución."
   ]
  },
  {
   "cell_type": "code",
   "execution_count": null,
   "metadata": {},
   "outputs": [],
   "source": [
    "crypto_data['daily_return'] = crypto_data['close'].pct_change() * 100\n",
    "\n",
    "plt.figure(figsize=(14, 7))\n",
    "sns.histplot(crypto_data['daily_return'].dropna(), kde=True, bins=30, color='blue')\n",
    "plt.title('Distribución de los cambios porcentuales diarios')\n",
    "plt.xlabel('Cambio porcentual diario (%)')\n",
    "plt.ylabel('Frecuencia')\n",
    "plt.show()"
   ]
  },
  {
   "cell_type": "markdown",
   "metadata": {},
   "source": [
    "# Pruebas de distribución para los cambios porcentuales diarios\n",
    "Aplicamos las mismas pruebas estadísticas que para la volatilidad pero ahora sobre los cambios porcentuales diarios."
   ]
  },
  {
   "cell_type": "code",
   "execution_count": null,
   "metadata": {},
   "outputs": [],
   "source": [
    "stat, p = shapiro(crypto_data['daily_return'].dropna())\n",
    "print(f\"Prueba de Shapiro-Wilk para cambios porcentuales: Estadístico={stat}, p-valor={p}\")\n",
    "\n",
    "stat, p = normaltest(crypto_data['daily_return'].dropna())\n",
    "print(f\"Prueba de D'Agostino para cambios porcentuales: Estadístico={stat}, p-valor={p}\")\n",
    "\n",
    "result = anderson(crypto_data['daily_return'].dropna())\n",
    "print('Prueba de Anderson-Darling para cambios porcentuales:')\n",
    "for i in range(len(result.critical_values)):\n",
    "    sig_level, crit_value = result.significance_level[i], result.critical_values[i]\n",
    "    print(f\"Nivel de significancia: {sig_level}%, Valor crítico: {crit_value}, Estadístico: {result.statistic}\")\n"
   ]
  },
  {
   "cell_type": "markdown",
   "metadata": {},
   "source": [
    "# Análisis 6: Relación entre volumen y precios\n",
    " Analizamos cómo se relaciona el volumen de transacciones (en USD) con el precio de cierre mediante un scatter plot."
   ]
  },
  {
   "cell_type": "code",
   "execution_count": null,
   "metadata": {},
   "outputs": [],
   "source": [
    "plt.figure(figsize=(10, 6))\n",
    "sns.scatterplot(data=crypto_data, x='volume usd', y='close', alpha=0.7)\n",
    "plt.title('Relación entre volumen (USD) y precio de cierre')\n",
    "plt.xlabel('Volumen (USD)')\n",
    "plt.ylabel('Precio de cierre')\n",
    "plt.show()"
   ]
  },
  {
   "cell_type": "markdown",
   "metadata": {},
   "source": [
    "# Análisis 7: Máximos y mínimos históricos\n",
    " Identificamos el precio máximo y mínimo históricos, así como las fechas en las que ocurrieron."
   ]
  },
  {
   "cell_type": "code",
   "execution_count": null,
   "metadata": {},
   "outputs": [],
   "source": [
    "max_price = crypto_data['high'].max()\n",
    "min_price = crypto_data['low'].min()\n",
    "max_date = crypto_data.loc[crypto_data['high'].idxmax(), 'date']\n",
    "min_date = crypto_data.loc[crypto_data['low'].idxmin(), 'date']\n",
    "\n",
    "print(f\"El precio máximo histórico fue {max_price} el {max_date}.\")\n",
    "print(f\"El precio mínimo histórico fue {min_price} el {min_date}.\")"
   ]
  },
  {
   "cell_type": "markdown",
   "metadata": {},
   "source": [
    "# Análisis 8: Volumen más alto\n",
    "Determinamos el día con el mayor volumen de transacciones y mostramos su valor y fecha."
   ]
  },
  {
   "cell_type": "code",
   "execution_count": null,
   "metadata": {},
   "outputs": [],
   "source": [
    "max_volume = crypto_data['volume usd'].max()\n",
    "max_volume_date = crypto_data.loc[crypto_data['volume usd'].idxmax(), 'date']\n",
    "print(f\"El mayor volumen de transacciones (USD) fue {max_volume} el {max_volume_date}.\")\n"
   ]
  },
  {
   "cell_type": "markdown",
   "metadata": {},
   "source": [
    "\n",
    "## Resumen de Resultados del Análisis de Criptomonedas\n",
    "\n",
    "### Análisis 1: Tendencias de Precios y Volumen\n",
    "- **Evolución de precios**:\n",
    "  - El precio de cierre muestra fluctuaciones a lo largo del tiempo, reflejando tendencias generales del mercado.\n",
    "  - Los períodos de estabilidad pueden identificarse junto a fases de alzas o caídas pronunciadas.\n",
    "- **Volumen de transacciones**:\n",
    "  - Los volúmenes en USD destacan los periodos de mayor actividad comercial, donde se concentran las transacciones.\n",
    "\n",
    "### Análisis 2: Promedios Móviles\n",
    "- **Resultados**:\n",
    "  - La media móvil de 7 días resalta tendencias a corto plazo, mientras que la de 30 días indica patrones más amplios.\n",
    "  - Permite identificar cambios en la dirección de los precios y detectar periodos de alta o baja volatilidad.\n",
    "\n",
    "### Análisis 3: Distribución de la Volatilidad\n",
    "- **Resultados del histograma**:\n",
    "  - La distribución muestra que la mayoría de los días tienen niveles bajos de volatilidad, con algunos picos extremos.\n",
    "- **Pruebas de distribución**:\n",
    "Los p-valores extremadamente bajos en Shapiro-Wilk y D'Agostino, junto con el estadístico alto en Anderson-Darling, sugieren que la volatilidad no sigue una distribución normal ni se ajusta a las distribuciones evaluadas por Anderson-Darling. Shapiro-Wilk y D'Agostino indican si la volatilidad sigue una distribución normal (si el p-valor es mayor a 0.05).\n",
    "\n",
    "### Análisis 4: Rangos de Precios\n",
    "- **Resultados**:\n",
    "  - El rango diario (High - Low) muestra la amplitud de movimiento del precio cada día.\n",
    "  - Picos en el rango pueden coincidir con eventos específicos que impactaron el mercado.\n",
    "\n",
    "### Análisis 5: Cambios Porcentuales Diarios\n",
    "- **Resultados del histograma**:\n",
    "  - Los cambios porcentuales diarios están centrados alrededor de 0%, con algunos días de ganancias o pérdidas extremas.\n",
    "- **Pruebas de distribución**:\n",
    "  - Los resultados de Shapiro-Wilk (estadístico=0.908, p-valor=3.798e-36) y D'Agostino (estadístico=1032.09, p-valor=7.66e-225) muestran p-valores extremadamente bajos, indicando que los cambios porcentuales diarios no siguen una distribución normal.\n",
    "\n",
    "  - La prueba de Anderson-Darling arroja un estadístico de 31.54, mucho mayor que los valores críticos para todos los niveles de significancia evaluados,         confirmando que los datos no se ajustan a distribuciones comunes como normal, exponencial o logística.\n",
    "\n",
    "### Análisis 6: Relación entre Volumen y Precios\n",
    "- **Resultados del scatter plot**:\n",
    "  - Relación visual entre el volumen de transacciones en USD y el precio de cierre.\n",
    "  - Puede sugerir si altos volúmenes coinciden con precios altos o caídas significativas.\n",
    "\n",
    "### Análisis 7: Máximos y Mínimos Históricos\n",
    "- **Máximo histórico**:\n",
    "  - Precio máximo registrado: `High` en la fecha correspondiente.\n",
    "- **Mínimo histórico**:\n",
    "  - Precio más bajo registrado: `Low` en su fecha.\n",
    "\n",
    "### Análisis 8: Volumen Más Alto\n",
    "- **Resultados**:\n",
    "  - Fecha y valor del volumen más alto registrado en USD.\n",
    "  - Este dato puede estar relacionado con eventos significativos o incrementos en la actividad de mercado.\n",
    "\n"
   ]
  }
 ],
 "metadata": {
  "kernelspec": {
   "display_name": "env",
   "language": "python",
   "name": "python3"
  },
  "language_info": {
   "codemirror_mode": {
    "name": "ipython",
    "version": 3
   },
   "file_extension": ".py",
   "mimetype": "text/x-python",
   "name": "python",
   "nbconvert_exporter": "python",
   "pygments_lexer": "ipython3",
   "version": "3.12.3"
  }
 },
 "nbformat": 4,
 "nbformat_minor": 2
}
