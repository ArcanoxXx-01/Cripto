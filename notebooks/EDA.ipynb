{
 "cells": [
  {
   "cell_type": "markdown",
   "metadata": {},
   "source": [
    "# **Análisis Exploratorio de Datos (EDA)**\n",
    "\n",
    "**Objetivo:** Conocer las características de los datos, detectar patrones iniciales y posibles problemas (valores faltantes, outliers, etc.).\n",
    "\n",
    "### **Pasos sugeridos:**\n",
    "\n",
    "**1-Cargar y visualizar los datos:**\n",
    "    -Usa pandas para cargar los archivos CSV y verificar su estructura.\n",
    "\n",
    "**2-Visualizar distribuciones iniciales:**\n",
    "    Histograma o KDE (Kernel Density Estimation) para los precios (matplotlib, seaborn).\n",
    "    Gráficos de líneas para ver tendencias de las variables principales (precios y volúmenes).\n",
    "\n",
    "**3-Identificar relaciones:**\n",
    "    Mapas de calor para observar correlaciones entre variables.\n",
    "    \n",
    "**4-Detectar outliers:**\n",
    "    Boxplots para identificar precios o volúmenes atípicos.\n",
    "    \n",
    "**5-Analizar tendencias temporales:**\n",
    "    Gráficos de series temporales para cada criptomoneda."
   ]
  },
  {
   "cell_type": "markdown",
   "metadata": {},
   "source": [
    "---\n",
    "### **Paso 1: Cargar y explorar los datos**\n",
    "---\n",
    "**Carga del dataset:** Si tienes múltiples archivos CSV, los podemos leer en un DataFrame para cada criptomoneda o consolidarlos en uno solo.\n"
   ]
  },
  {
   "cell_type": "code",
   "execution_count": null,
   "metadata": {},
   "outputs": [],
   "source": [
    "# import sys\n",
    "# import os\n",
    "\n",
    "# # Ruta al directorio `src`\n",
    "# src_path = os.path.abspath(os.path.join(os.getcwd(), '..', 'src'))\n",
    "\n",
    "# # Agregar `src` al PATH\n",
    "# if src_path not in sys.path:\n",
    "#     sys.path.append(src_path)\n",
    "\n",
    "# # Importar el archivo `merge.py`\n",
    "# import merge\n",
    "\n"
   ]
  },
  {
   "cell_type": "code",
   "execution_count": 1,
   "metadata": {},
   "outputs": [],
   "source": [
    "import pandas as pd\n",
    "\n",
    "df = pd.read_csv('../db/BTCUSD_d.csv')\n",
    "\n",
    "# print(df.describe())\n"
   ]
  },
  {
   "cell_type": "markdown",
   "metadata": {},
   "source": [
    "**Cuando son multiples archivos:**"
   ]
  },
  {
   "cell_type": "code",
   "execution_count": null,
   "metadata": {},
   "outputs": [
    {
     "ename": "ModuleNotFoundError",
     "evalue": "No module named 'src'",
     "output_type": "error",
     "traceback": [
      "\u001b[0;31m---------------------------------------------------------------------------\u001b[0m",
      "\u001b[0;31mModuleNotFoundError\u001b[0m                       Traceback (most recent call last)",
      "Cell \u001b[0;32mIn[3], line 1\u001b[0m\n\u001b[0;32m----> 1\u001b[0m \u001b[38;5;28;01mfrom\u001b[39;00m \u001b[38;5;21;01msrc\u001b[39;00m \u001b[38;5;28;01mimport\u001b[39;00m merge\n\u001b[1;32m      3\u001b[0m \u001b[38;5;28mprint\u001b[39m( merge\u001b[38;5;241m.\u001b[39mmerge() )\n",
      "\u001b[0;31mModuleNotFoundError\u001b[0m: No module named 'src'"
     ]
    }
   ],
   "source": [
    "#from src import merge\n",
    "\n",
    "#print( merge.merge() )"
   ]
  },
  {
   "cell_type": "markdown",
   "metadata": {},
   "source": [
    "Visualiza las distribuciones de los precios para identificar sesgos o patrones."
   ]
  },
  {
   "cell_type": "code",
   "execution_count": 2,
   "metadata": {},
   "outputs": [
    {
     "data": {
      "image/png": "[encoded data removed]",
      "text/plain": [
       "<Figure size 640x480 with 1 Axes>"
      ]
     },
     "metadata": {},
     "output_type": "display_data"
    }
   ],
   "source": [
    "import matplotlib.pyplot as plt\n",
    "\n",
    "# Histograma de precios de cierre\n",
    "plt.hist(df['close'], bins=30, color='blue', alpha=0.7)\n",
    "plt.title('Distribución de precios de cierre')\n",
    "plt.xlabel('Precio de cierre')\n",
    "plt.ylabel('Frecuencia')\n",
    "plt.show()"
   ]
  },
  {
   "cell_type": "markdown",
   "metadata": {},
   "source": [
    "Observa cómo cambian los precios a lo largo del tiempo."
   ]
  },
  {
   "cell_type": "code",
   "execution_count": null,
   "metadata": {},
   "outputs": [],
   "source": [
    "# Convertir la columna de fecha al tipo datetime\n",
    "df['date'] = pd.to_datetime(df['date'])\n",
    "\n",
    "# Graficar los precios de cierre\n",
    "plt.plot(df['date'], df['close'], label='Precio de cierre', color='orange')\n",
    "plt.title('Precio de cierre a lo largo del tiempo')\n",
    "plt.xlabel('Fecha')\n",
    "plt.ylabel('Precio de cierre')\n",
    "plt.legend()\n",
    "plt.show()"
   ]
  },
  {
   "cell_type": "markdown",
   "metadata": {},
   "source": [
    "Correlaciones entre variables: Usa un mapa de calor para visualizar correlaciones."
   ]
  },
  {
   "cell_type": "code",
   "execution_count": null,
   "metadata": {},
   "outputs": [],
   "source": [
    "import seaborn as sns\n",
    "\n",
    "# Calcular matriz de correlación\n",
    "corr_matrix = df[['open', 'high', 'low', 'close', 'Volume USD', 'Volume Cripto']].corr()\n",
    "\n",
    "# Crear un mapa de calor\n",
    "sns.heatmap(corr_matrix, annot = True, cmap='coolwarm', fmt='.2f')\n",
    "plt.title('Matriz de correlación')\n",
    "plt.show()\n"
   ]
  },
  {
   "cell_type": "markdown",
   "metadata": {},
   "source": [
    "### **Paso 4: Detectar valores atípicos**\n",
    "\n",
    "**Boxplots:** Identifica outliers en precios o volúmenes."
   ]
  },
  {
   "cell_type": "code",
   "execution_count": null,
   "metadata": {},
   "outputs": [],
   "source": [
    "# Boxplot para los precios de cierre\n",
    "sns.boxplot(x=df['close'], color='green')\n",
    "plt.title('Boxplot de precios de cierre')\n",
    "plt.show()"
   ]
  },
  {
   "cell_type": "markdown",
   "metadata": {},
   "source": [
    "### **Paso 5: Análisis temporal**\n",
    "\n",
    "**Graficar volatilidad diaria:** Calcula la volatilidad (high - low)/open y grafícala."
   ]
  },
  {
   "cell_type": "code",
   "execution_count": null,
   "metadata": {},
   "outputs": [],
   "source": [
    "# Calcular volatilidad diaria\n",
    "df['volatility'] = (df['high'] - df['low']) / df['open']\n",
    "\n",
    "# Graficar volatilidad\n",
    "plt.plot(df['date'], df['volatility'], label='Volatilidad', color='red')\n",
    "plt.title('Volatilidad diaria')\n",
    "plt.xlabel('Fecha')\n",
    "plt.ylabel('Volatilidad')\n",
    "plt.legend()\n",
    "plt.show()\n"
   ]
  }
 ],
 "metadata": {
  "kernelspec": {
   "display_name": "env",
   "language": "python",
   "name": "python3"
  },
  "language_info": {
   "codemirror_mode": {
    "name": "ipython",
    "version": 3
   },
   "file_extension": ".py",
   "mimetype": "text/x-python",
   "name": "python",
   "nbconvert_exporter": "python",
   "pygments_lexer": "ipython3",
   "version": "3.12.3"
  }
 },
 "nbformat": 4,
 "nbformat_minor": 2
}
